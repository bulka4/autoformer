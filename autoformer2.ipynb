{
 "cells": [
  {
   "cell_type": "code",
   "execution_count": 1,
   "id": "f7948270-f3e3-4f63-9d75-dbdb48d31124",
   "metadata": {},
   "outputs": [
    {
     "name": "stderr",
     "output_type": "stream",
     "text": [
      "C:\\Users\\mbulka\\Documents\\projects\\my_projects\\python_venv\\venv\\lib\\site-packages\\tqdm\\auto.py:22: TqdmWarning: IProgress not found. Please update jupyter and ipywidgets. See https://ipywidgets.readthedocs.io/en/stable/user_install.html\n",
      "  from .autonotebook import tqdm as notebook_tqdm\n"
     ]
    }
   ],
   "source": [
    "import pandas as pd\n",
    "import numpy as np\n",
    "import matplotlib.pyplot as plt\n",
    "\n",
    "from classes.Autoformer import *\n",
    "from classes.Autoformer_EncDec import *\n",
    "from classes.AutoCorrelation import *\n",
    "\n",
    "from huggingface_hub import hf_hub_download\n",
    "import torch\n",
    "from transformers import AutoformerForPrediction"
   ]
  },
  {
   "cell_type": "code",
   "execution_count": 2,
   "id": "a346429a-5b8a-4a65-9f35-9540d1df155b",
   "metadata": {},
   "outputs": [],
   "source": [
    "file = hf_hub_download(\n",
    "    repo_id=\"hf-internal-testing/tourism-monthly-batch\", filename=\"train-batch.pt\", repo_type=\"dataset\"\n",
    ")\n",
    "\n",
    "batch = torch.load(file)"
   ]
  },
  {
   "cell_type": "code",
   "execution_count": 5,
   "id": "3cab41dc-fb14-4562-b617-43f6628f198f",
   "metadata": {},
   "outputs": [
    {
     "data": {
      "text/plain": [
       "torch.Size([64, 61, 2])"
      ]
     },
     "execution_count": 5,
     "metadata": {},
     "output_type": "execute_result"
    }
   ],
   "source": [
    "batch[\"past_time_features\"].shape"
   ]
  },
  {
   "cell_type": "code",
   "execution_count": 9,
   "id": "495d720d-dc56-4f68-a620-574eb1978e25",
   "metadata": {
    "collapsed": true,
    "jupyter": {
     "outputs_hidden": true
    },
    "tags": []
   },
   "outputs": [
    {
     "data": {
      "text/plain": [
       "tensor([[[ 0.1364,  2.2175],\n",
       "         [ 0.2273,  2.2201],\n",
       "         [ 0.3182,  2.2227],\n",
       "         [ 0.4091,  2.2253],\n",
       "         [ 0.5000,  2.2279],\n",
       "         [-0.5000,  2.2304],\n",
       "         [-0.4091,  2.2330],\n",
       "         [-0.3182,  2.2355],\n",
       "         [-0.2273,  2.2380],\n",
       "         [-0.1364,  2.2405],\n",
       "         [-0.0455,  2.2430],\n",
       "         [ 0.0455,  2.2455],\n",
       "         [ 0.1364,  2.2480],\n",
       "         [ 0.2273,  2.2504],\n",
       "         [ 0.3182,  2.2529],\n",
       "         [ 0.4091,  2.2553],\n",
       "         [ 0.5000,  2.2577],\n",
       "         [-0.5000,  2.2601],\n",
       "         [-0.4091,  2.2625],\n",
       "         [-0.3182,  2.2648],\n",
       "         [-0.2273,  2.2672],\n",
       "         [-0.1364,  2.2695],\n",
       "         [-0.0455,  2.2718],\n",
       "         [ 0.0455,  2.2742],\n",
       "         [ 0.1364,  2.2765],\n",
       "         [ 0.2273,  2.2788],\n",
       "         [ 0.3182,  2.2810],\n",
       "         [ 0.4091,  2.2833],\n",
       "         [ 0.5000,  2.2856],\n",
       "         [-0.5000,  2.2878],\n",
       "         [-0.4091,  2.2900],\n",
       "         [-0.3182,  2.2923],\n",
       "         [-0.2273,  2.2945],\n",
       "         [-0.1364,  2.2967],\n",
       "         [-0.0455,  2.2989],\n",
       "         [ 0.0455,  2.3010],\n",
       "         [ 0.1364,  2.3032],\n",
       "         [ 0.2273,  2.3054],\n",
       "         [ 0.3182,  2.3075],\n",
       "         [ 0.4091,  2.3096],\n",
       "         [ 0.5000,  2.3118],\n",
       "         [-0.5000,  2.3139],\n",
       "         [-0.4091,  2.3160],\n",
       "         [-0.3182,  2.3181],\n",
       "         [-0.2273,  2.3201],\n",
       "         [-0.1364,  2.3222],\n",
       "         [-0.0455,  2.3243],\n",
       "         [ 0.0455,  2.3263],\n",
       "         [ 0.1364,  2.3284],\n",
       "         [ 0.2273,  2.3304],\n",
       "         [ 0.3182,  2.3324],\n",
       "         [ 0.4091,  2.3345],\n",
       "         [ 0.5000,  2.3365],\n",
       "         [-0.5000,  2.3385],\n",
       "         [-0.4091,  2.3404],\n",
       "         [-0.3182,  2.3424],\n",
       "         [-0.2273,  2.3444],\n",
       "         [-0.1364,  2.3464],\n",
       "         [-0.0455,  2.3483],\n",
       "         [ 0.0455,  2.3502],\n",
       "         [ 0.1364,  2.3522]],\n",
       "\n",
       "        [[ 0.1364,  2.1847],\n",
       "         [ 0.2273,  2.1875],\n",
       "         [ 0.3182,  2.1903],\n",
       "         [ 0.4091,  2.1931],\n",
       "         [ 0.5000,  2.1959],\n",
       "         [-0.5000,  2.1987],\n",
       "         [-0.4091,  2.2014],\n",
       "         [-0.3182,  2.2041],\n",
       "         [-0.2273,  2.2068],\n",
       "         [-0.1364,  2.2095],\n",
       "         [-0.0455,  2.2122],\n",
       "         [ 0.0455,  2.2148],\n",
       "         [ 0.1364,  2.2175],\n",
       "         [ 0.2273,  2.2201],\n",
       "         [ 0.3182,  2.2227],\n",
       "         [ 0.4091,  2.2253],\n",
       "         [ 0.5000,  2.2279],\n",
       "         [-0.5000,  2.2304],\n",
       "         [-0.4091,  2.2330],\n",
       "         [-0.3182,  2.2355],\n",
       "         [-0.2273,  2.2380],\n",
       "         [-0.1364,  2.2405],\n",
       "         [-0.0455,  2.2430],\n",
       "         [ 0.0455,  2.2455],\n",
       "         [ 0.1364,  2.2480],\n",
       "         [ 0.2273,  2.2504],\n",
       "         [ 0.3182,  2.2529],\n",
       "         [ 0.4091,  2.2553],\n",
       "         [ 0.5000,  2.2577],\n",
       "         [-0.5000,  2.2601],\n",
       "         [-0.4091,  2.2625],\n",
       "         [-0.3182,  2.2648],\n",
       "         [-0.2273,  2.2672],\n",
       "         [-0.1364,  2.2695],\n",
       "         [-0.0455,  2.2718],\n",
       "         [ 0.0455,  2.2742],\n",
       "         [ 0.1364,  2.2765],\n",
       "         [ 0.2273,  2.2788],\n",
       "         [ 0.3182,  2.2810],\n",
       "         [ 0.4091,  2.2833],\n",
       "         [ 0.5000,  2.2856],\n",
       "         [-0.5000,  2.2878],\n",
       "         [-0.4091,  2.2900],\n",
       "         [-0.3182,  2.2923],\n",
       "         [-0.2273,  2.2945],\n",
       "         [-0.1364,  2.2967],\n",
       "         [-0.0455,  2.2989],\n",
       "         [ 0.0455,  2.3010],\n",
       "         [ 0.1364,  2.3032],\n",
       "         [ 0.2273,  2.3054],\n",
       "         [ 0.3182,  2.3075],\n",
       "         [ 0.4091,  2.3096],\n",
       "         [ 0.5000,  2.3118],\n",
       "         [-0.5000,  2.3139],\n",
       "         [-0.4091,  2.3160],\n",
       "         [-0.3182,  2.3181],\n",
       "         [-0.2273,  2.3201],\n",
       "         [-0.1364,  2.3222],\n",
       "         [-0.0455,  2.3243],\n",
       "         [ 0.0455,  2.3263],\n",
       "         [ 0.1364,  2.3284]]])"
      ]
     },
     "execution_count": 9,
     "metadata": {},
     "output_type": "execute_result"
    }
   ],
   "source": [
    "batch[\"past_time_features\"][:2]"
   ]
  },
  {
   "cell_type": "code",
   "execution_count": 6,
   "id": "cddc7d5f-09b7-46a5-a143-d5f5f5cb0518",
   "metadata": {},
   "outputs": [
    {
     "data": {
      "text/plain": [
       "torch.Size([64, 61])"
      ]
     },
     "execution_count": 6,
     "metadata": {},
     "output_type": "execute_result"
    }
   ],
   "source": [
    "batch[\"past_values\"].shape"
   ]
  },
  {
   "cell_type": "code",
   "execution_count": 8,
   "id": "5c188b74-3cf8-4644-bda0-879672ca94a7",
   "metadata": {},
   "outputs": [
    {
     "data": {
      "text/plain": [
       "tensor([[19081., 20436., 27477., 26577., 23441., 21675., 28648., 31105., 24632.,\n",
       "         16762., 22160., 26744., 19850., 19911., 27126., 26527., 24537., 22487.,\n",
       "         31676., 28884., 23651., 18219., 25578., 29338., 21142., 18754., 28269.,\n",
       "         27426., 29465., 22066., 33252., 29677., 26035., 18457., 26513., 29087.,\n",
       "         22207., 20118., 29521., 30643., 29319., 25602., 32209., 29594., 25532.,\n",
       "         20470., 27059., 32769., 24595., 22622., 28194., 28861., 32086., 28568.,\n",
       "         37583., 35016., 31542., 24441., 29401., 34654., 25116.],\n",
       "        [14819., 18318., 23751., 32300., 37685., 25708., 31287., 38142., 23962.,\n",
       "         17530., 14169., 19561., 17447., 19392., 27938., 34615., 40536., 28591.,\n",
       "         35847., 35812., 26078., 16358., 15028., 21666., 17766., 22399., 31591.,\n",
       "         37564., 46581., 36220., 40659., 35805., 31783., 17144., 15282., 20668.,\n",
       "         17916., 20703., 31012., 37927., 42780., 33172., 37971., 37030., 28694.,\n",
       "         18025., 17913., 20752., 20115., 23875., 31944., 45971., 52079., 38113.,\n",
       "         43399., 44749., 27358., 18477., 19311., 22673., 22400.]])"
      ]
     },
     "execution_count": 8,
     "metadata": {},
     "output_type": "execute_result"
    }
   ],
   "source": [
    "batch[\"past_values\"][:2]"
   ]
  },
  {
   "cell_type": "code",
   "execution_count": 11,
   "id": "bd0da019-36c8-4835-9537-d7b7bcefe63d",
   "metadata": {},
   "outputs": [
    {
     "data": {
      "text/plain": [
       "dict_keys(['static_categorical_features', 'static_real_features', 'past_time_features', 'past_values', 'past_observed_mask', 'future_time_features', 'future_values', 'future_observed_mask'])"
      ]
     },
     "execution_count": 11,
     "metadata": {},
     "output_type": "execute_result"
    }
   ],
   "source": [
    "batch.keys()"
   ]
  },
  {
   "cell_type": "code",
   "execution_count": null,
   "id": "38c646b0-ecfd-4a40-b655-e9397e25a16c",
   "metadata": {},
   "outputs": [],
   "source": []
  }
 ],
 "metadata": {
  "kernelspec": {
   "display_name": "Python 3 (ipykernel)",
   "language": "python",
   "name": "python3"
  },
  "language_info": {
   "codemirror_mode": {
    "name": "ipython",
    "version": 3
   },
   "file_extension": ".py",
   "mimetype": "text/x-python",
   "name": "python",
   "nbconvert_exporter": "python",
   "pygments_lexer": "ipython3",
   "version": "3.10.7"
  }
 },
 "nbformat": 4,
 "nbformat_minor": 5
}
